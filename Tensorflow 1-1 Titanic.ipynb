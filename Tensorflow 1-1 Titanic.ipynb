{
 "cells": [
  {
   "cell_type": "code",
   "execution_count": 1,
   "id": "a66e38c0",
   "metadata": {},
   "outputs": [],
   "source": [
    "import numpy as np\n",
    "import matplotlib.pyplot as plt\n",
    "import tensorflow as tf\n",
    "import pandas as pd\n",
    "from tensorflow.keras import models,layers\n"
   ]
  },
  {
   "cell_type": "code",
   "execution_count": 2,
   "id": "19421fe0",
   "metadata": {},
   "outputs": [
    {
     "data": {
      "text/html": [
       "<div>\n",
       "<style scoped>\n",
       "    .dataframe tbody tr th:only-of-type {\n",
       "        vertical-align: middle;\n",
       "    }\n",
       "\n",
       "    .dataframe tbody tr th {\n",
       "        vertical-align: top;\n",
       "    }\n",
       "\n",
       "    .dataframe thead th {\n",
       "        text-align: right;\n",
       "    }\n",
       "</style>\n",
       "<table border=\"1\" class=\"dataframe\">\n",
       "  <thead>\n",
       "    <tr style=\"text-align: right;\">\n",
       "      <th></th>\n",
       "      <th>PassengerId</th>\n",
       "      <th>Survived</th>\n",
       "      <th>Pclass</th>\n",
       "      <th>Name</th>\n",
       "      <th>Sex</th>\n",
       "      <th>Age</th>\n",
       "      <th>SibSp</th>\n",
       "      <th>Parch</th>\n",
       "      <th>Ticket</th>\n",
       "      <th>Fare</th>\n",
       "      <th>Cabin</th>\n",
       "      <th>Embarked</th>\n",
       "    </tr>\n",
       "  </thead>\n",
       "  <tbody>\n",
       "    <tr>\n",
       "      <th>0</th>\n",
       "      <td>181</td>\n",
       "      <td>0</td>\n",
       "      <td>3</td>\n",
       "      <td>Sage, Miss. Constance Gladys</td>\n",
       "      <td>female</td>\n",
       "      <td>NaN</td>\n",
       "      <td>8</td>\n",
       "      <td>2</td>\n",
       "      <td>CA. 2343</td>\n",
       "      <td>69.5500</td>\n",
       "      <td>NaN</td>\n",
       "      <td>S</td>\n",
       "    </tr>\n",
       "    <tr>\n",
       "      <th>1</th>\n",
       "      <td>405</td>\n",
       "      <td>0</td>\n",
       "      <td>3</td>\n",
       "      <td>Oreskovic, Miss. Marija</td>\n",
       "      <td>female</td>\n",
       "      <td>20.00</td>\n",
       "      <td>0</td>\n",
       "      <td>0</td>\n",
       "      <td>315096</td>\n",
       "      <td>8.6625</td>\n",
       "      <td>NaN</td>\n",
       "      <td>S</td>\n",
       "    </tr>\n",
       "    <tr>\n",
       "      <th>2</th>\n",
       "      <td>635</td>\n",
       "      <td>0</td>\n",
       "      <td>3</td>\n",
       "      <td>Skoog, Miss. Mabel</td>\n",
       "      <td>female</td>\n",
       "      <td>9.00</td>\n",
       "      <td>3</td>\n",
       "      <td>2</td>\n",
       "      <td>347088</td>\n",
       "      <td>27.9000</td>\n",
       "      <td>NaN</td>\n",
       "      <td>S</td>\n",
       "    </tr>\n",
       "    <tr>\n",
       "      <th>3</th>\n",
       "      <td>701</td>\n",
       "      <td>1</td>\n",
       "      <td>1</td>\n",
       "      <td>Astor, Mrs. John Jacob (Madeleine Talmadge Force)</td>\n",
       "      <td>female</td>\n",
       "      <td>18.00</td>\n",
       "      <td>1</td>\n",
       "      <td>0</td>\n",
       "      <td>PC 17757</td>\n",
       "      <td>227.5250</td>\n",
       "      <td>C62 C64</td>\n",
       "      <td>C</td>\n",
       "    </tr>\n",
       "    <tr>\n",
       "      <th>4</th>\n",
       "      <td>470</td>\n",
       "      <td>1</td>\n",
       "      <td>3</td>\n",
       "      <td>Baclini, Miss. Helene Barbara</td>\n",
       "      <td>female</td>\n",
       "      <td>0.75</td>\n",
       "      <td>2</td>\n",
       "      <td>1</td>\n",
       "      <td>2666</td>\n",
       "      <td>19.2583</td>\n",
       "      <td>NaN</td>\n",
       "      <td>C</td>\n",
       "    </tr>\n",
       "    <tr>\n",
       "      <th>...</th>\n",
       "      <td>...</td>\n",
       "      <td>...</td>\n",
       "      <td>...</td>\n",
       "      <td>...</td>\n",
       "      <td>...</td>\n",
       "      <td>...</td>\n",
       "      <td>...</td>\n",
       "      <td>...</td>\n",
       "      <td>...</td>\n",
       "      <td>...</td>\n",
       "      <td>...</td>\n",
       "      <td>...</td>\n",
       "    </tr>\n",
       "    <tr>\n",
       "      <th>174</th>\n",
       "      <td>650</td>\n",
       "      <td>1</td>\n",
       "      <td>3</td>\n",
       "      <td>Stanley, Miss. Amy Zillah Elsie</td>\n",
       "      <td>female</td>\n",
       "      <td>23.00</td>\n",
       "      <td>0</td>\n",
       "      <td>0</td>\n",
       "      <td>CA. 2314</td>\n",
       "      <td>7.5500</td>\n",
       "      <td>NaN</td>\n",
       "      <td>S</td>\n",
       "    </tr>\n",
       "    <tr>\n",
       "      <th>175</th>\n",
       "      <td>649</td>\n",
       "      <td>0</td>\n",
       "      <td>3</td>\n",
       "      <td>Willey, Mr. Edward</td>\n",
       "      <td>male</td>\n",
       "      <td>NaN</td>\n",
       "      <td>0</td>\n",
       "      <td>0</td>\n",
       "      <td>S.O./P.P. 751</td>\n",
       "      <td>7.5500</td>\n",
       "      <td>NaN</td>\n",
       "      <td>S</td>\n",
       "    </tr>\n",
       "    <tr>\n",
       "      <th>176</th>\n",
       "      <td>577</td>\n",
       "      <td>1</td>\n",
       "      <td>2</td>\n",
       "      <td>Garside, Miss. Ethel</td>\n",
       "      <td>female</td>\n",
       "      <td>34.00</td>\n",
       "      <td>0</td>\n",
       "      <td>0</td>\n",
       "      <td>243880</td>\n",
       "      <td>13.0000</td>\n",
       "      <td>NaN</td>\n",
       "      <td>S</td>\n",
       "    </tr>\n",
       "    <tr>\n",
       "      <th>177</th>\n",
       "      <td>78</td>\n",
       "      <td>0</td>\n",
       "      <td>3</td>\n",
       "      <td>Moutal, Mr. Rahamin Haim</td>\n",
       "      <td>male</td>\n",
       "      <td>NaN</td>\n",
       "      <td>0</td>\n",
       "      <td>0</td>\n",
       "      <td>374746</td>\n",
       "      <td>8.0500</td>\n",
       "      <td>NaN</td>\n",
       "      <td>S</td>\n",
       "    </tr>\n",
       "    <tr>\n",
       "      <th>178</th>\n",
       "      <td>402</td>\n",
       "      <td>0</td>\n",
       "      <td>3</td>\n",
       "      <td>Adams, Mr. John</td>\n",
       "      <td>male</td>\n",
       "      <td>26.00</td>\n",
       "      <td>0</td>\n",
       "      <td>0</td>\n",
       "      <td>341826</td>\n",
       "      <td>8.0500</td>\n",
       "      <td>NaN</td>\n",
       "      <td>S</td>\n",
       "    </tr>\n",
       "  </tbody>\n",
       "</table>\n",
       "<p>179 rows × 12 columns</p>\n",
       "</div>"
      ],
      "text/plain": [
       "     PassengerId  Survived  Pclass  \\\n",
       "0            181         0       3   \n",
       "1            405         0       3   \n",
       "2            635         0       3   \n",
       "3            701         1       1   \n",
       "4            470         1       3   \n",
       "..           ...       ...     ...   \n",
       "174          650         1       3   \n",
       "175          649         0       3   \n",
       "176          577         1       2   \n",
       "177           78         0       3   \n",
       "178          402         0       3   \n",
       "\n",
       "                                                  Name     Sex    Age  SibSp  \\\n",
       "0                         Sage, Miss. Constance Gladys  female    NaN      8   \n",
       "1                              Oreskovic, Miss. Marija  female  20.00      0   \n",
       "2                                   Skoog, Miss. Mabel  female   9.00      3   \n",
       "3    Astor, Mrs. John Jacob (Madeleine Talmadge Force)  female  18.00      1   \n",
       "4                        Baclini, Miss. Helene Barbara  female   0.75      2   \n",
       "..                                                 ...     ...    ...    ...   \n",
       "174                    Stanley, Miss. Amy Zillah Elsie  female  23.00      0   \n",
       "175                                 Willey, Mr. Edward    male    NaN      0   \n",
       "176                               Garside, Miss. Ethel  female  34.00      0   \n",
       "177                           Moutal, Mr. Rahamin Haim    male    NaN      0   \n",
       "178                                    Adams, Mr. John    male  26.00      0   \n",
       "\n",
       "     Parch         Ticket      Fare    Cabin Embarked  \n",
       "0        2       CA. 2343   69.5500      NaN        S  \n",
       "1        0         315096    8.6625      NaN        S  \n",
       "2        2         347088   27.9000      NaN        S  \n",
       "3        0       PC 17757  227.5250  C62 C64        C  \n",
       "4        1           2666   19.2583      NaN        C  \n",
       "..     ...            ...       ...      ...      ...  \n",
       "174      0       CA. 2314    7.5500      NaN        S  \n",
       "175      0  S.O./P.P. 751    7.5500      NaN        S  \n",
       "176      0         243880   13.0000      NaN        S  \n",
       "177      0         374746    8.0500      NaN        S  \n",
       "178      0         341826    8.0500      NaN        S  \n",
       "\n",
       "[179 rows x 12 columns]"
      ]
     },
     "execution_count": 2,
     "metadata": {},
     "output_type": "execute_result"
    }
   ],
   "source": [
    "dftrain_raw = pd.read_csv(r'C:\\Users\\Alienware\\Desktop\\tensorflow\\eat_tensorflow2_in_30_days-master\\data\\titanic\\train.csv')\n",
    "dftest_raw = pd.read_csv(r'C:\\Users\\Alienware\\Desktop\\tensorflow\\eat_tensorflow2_in_30_days-master\\data\\titanic\\test.csv')\n",
    "\n",
    "dftest_raw"
   ]
  },
  {
   "cell_type": "code",
   "execution_count": 28,
   "id": "cadbcc19",
   "metadata": {},
   "outputs": [
    {
     "data": {
      "image/png": "[encoded data removed]",
      "text/plain": [
       "<Figure size 864x576 with 1 Axes>"
      ]
     },
     "metadata": {
      "needs_background": "light"
     },
     "output_type": "display_data"
    }
   ],
   "source": [
    "ax = dftrain_raw['Survived'].value_counts().plot(kind = 'bar',figsize = (12,8)\n",
    "                                               ,fontsize = 15, rot = 0 )\n",
    "ax.set_ylabel('Counts', fontsize = 15)\n",
    "ax.set_xlabel('Survived', fontsize = 15)\n",
    "plt.show()\n"
   ]
  },
  {
   "cell_type": "code",
   "execution_count": 36,
   "id": "73ea8981",
   "metadata": {},
   "outputs": [
    {
     "data": {
      "image/png": "[encoded data removed]",
      "text/plain": [
       "<Figure size 864x576 with 1 Axes>"
      ]
     },
     "metadata": {
      "needs_background": "light"
     },
     "output_type": "display_data"
    }
   ],
   "source": [
    "ax = dftrain_raw['Age'].plot(kind = 'hist', bins = 20, color = 'blue',\n",
    "                            figsize = (12,8), fontsize = 15)\n",
    "ax.set_ylabel('Frequency', fontsize = 15)\n",
    "ax.set_xlabel('Age', fontsize = 15)\n",
    "plt.show()"
   ]
  },
  {
   "cell_type": "code",
   "execution_count": 48,
   "id": "fb905a2d",
   "metadata": {},
   "outputs": [
    {
     "data": {
      "image/png": "[encoded data removed]",
      "text/plain": [
       "<Figure size 864x576 with 1 Axes>"
      ]
     },
     "metadata": {
      "needs_background": "light"
     },
     "output_type": "display_data"
    }
   ],
   "source": [
    "ax = dftrain_raw.query('Survived == 0')['Age'].plot(kind = 'density'\n",
    "                                                  , figsize = (12,8), fontsize = 15, label = 'Survived ==0')\n",
    "dftrain_raw.query('Survived == 1')['Age'].plot(kind = 'density', figsize = (12,8),\n",
    "                                              fontsize = 15, label = 'Survived == 1')\n",
    "ax.set_ylabel('Density',fontsize = 15)\n",
    "ax.set_xlabel('Age', fontsize = 15)\n",
    "plt.xlim(dftrain_raw['Age'].min(),dftrain_raw['Age'].max())\n",
    "\n",
    "plt.legend()\n",
    "plt.show()"
   ]
  },
  {
   "cell_type": "markdown",
   "id": "3e84c7c0",
   "metadata": {},
   "source": [
    "# preprocessing data"
   ]
  },
  {
   "cell_type": "code",
   "execution_count": 76,
   "id": "7b5aff6e",
   "metadata": {},
   "outputs": [],
   "source": [
    "def preprocessing(dfdata):\n",
    "    dfresult = pd.DataFrame()\n",
    "    \n",
    "    dfPclass = pd.get_dummies(dfdata['Pclass'])\n",
    "    dfPclass.columns = ['Pclass_'+str(x) for x in dfPclass.columns ]\n",
    "    dfresult = pd.concat([dfresult,dfPclass], axis = 1)\n",
    "    \n",
    "    dfSex = pd.get_dummies(dfdata['Sex'])\n",
    "    dfresult = pd.concat([dfresult,dfSex], axis = 1)\n",
    "    \n",
    "    dfresult['Age'] = dfdata['Age'].fillna(0)\n",
    "    dfresult['Age_null'] = pd.isna(dfdata['Age']).astype('int32')\n",
    "    \n",
    "    dfresult['SibSp'] = dfdata['SibSp']\n",
    "    dfresult['Parch'] = dfdata['Parch']\n",
    "    dfresult['Fare'] = dfdata['Fare']\n",
    "    \n",
    "    dfresult['Cabin_null'] =  pd.isna(dfdata['Cabin']).astype('int32')\n",
    "\n",
    "    dfEmbarked = pd.get_dummies(dfdata['Embarked'],dummy_na=True)\n",
    "    dfEmbarked.columns = ['Embarked_' + str(x) for x in dfEmbarked.columns]\n",
    "    dfresult = pd.concat([dfresult,dfEmbarked],axis = 1)    \n",
    "    \n",
    "    return(dfresult)\n",
    "  \n",
    "    "
   ]
  },
  {
   "cell_type": "code",
   "execution_count": 85,
   "id": "687318b3",
   "metadata": {},
   "outputs": [
    {
     "name": "stdout",
     "output_type": "stream",
     "text": [
      "x_train.shape = (712, 15)\n",
      "x_test.shape = (179, 15)\n"
     ]
    }
   ],
   "source": [
    "x_train = preprocessing(dftrain_raw)\n",
    "y_train = dftrain_raw['Survived'].values\n",
    "\n",
    "x_test = preprocessing(dftest_raw)\n",
    "y_test = dftest_raw['Survived'].values\n",
    "\n",
    "print(\"x_train.shape =\", x_train.shape )\n",
    "print(\"x_test.shape =\", x_test.shape )"
   ]
  },
  {
   "cell_type": "code",
   "execution_count": 69,
   "id": "87545e62",
   "metadata": {},
   "outputs": [
    {
     "data": {
      "text/html": [
       "<div>\n",
       "<style scoped>\n",
       "    .dataframe tbody tr th:only-of-type {\n",
       "        vertical-align: middle;\n",
       "    }\n",
       "\n",
       "    .dataframe tbody tr th {\n",
       "        vertical-align: top;\n",
       "    }\n",
       "\n",
       "    .dataframe thead th {\n",
       "        text-align: right;\n",
       "    }\n",
       "</style>\n",
       "<table border=\"1\" class=\"dataframe\">\n",
       "  <thead>\n",
       "    <tr style=\"text-align: right;\">\n",
       "      <th></th>\n",
       "      <th>Pclass_1</th>\n",
       "      <th>Pclass_2</th>\n",
       "      <th>Pclass_3</th>\n",
       "      <th>female</th>\n",
       "      <th>male</th>\n",
       "    </tr>\n",
       "  </thead>\n",
       "  <tbody>\n",
       "    <tr>\n",
       "      <th>0</th>\n",
       "      <td>1</td>\n",
       "      <td>0</td>\n",
       "      <td>0</td>\n",
       "      <td>0</td>\n",
       "      <td>1</td>\n",
       "    </tr>\n",
       "    <tr>\n",
       "      <th>1</th>\n",
       "      <td>1</td>\n",
       "      <td>0</td>\n",
       "      <td>0</td>\n",
       "      <td>1</td>\n",
       "      <td>0</td>\n",
       "    </tr>\n",
       "    <tr>\n",
       "      <th>2</th>\n",
       "      <td>0</td>\n",
       "      <td>1</td>\n",
       "      <td>0</td>\n",
       "      <td>1</td>\n",
       "      <td>0</td>\n",
       "    </tr>\n",
       "    <tr>\n",
       "      <th>3</th>\n",
       "      <td>0</td>\n",
       "      <td>1</td>\n",
       "      <td>0</td>\n",
       "      <td>0</td>\n",
       "      <td>1</td>\n",
       "    </tr>\n",
       "    <tr>\n",
       "      <th>4</th>\n",
       "      <td>0</td>\n",
       "      <td>0</td>\n",
       "      <td>1</td>\n",
       "      <td>0</td>\n",
       "      <td>1</td>\n",
       "    </tr>\n",
       "    <tr>\n",
       "      <th>...</th>\n",
       "      <td>...</td>\n",
       "      <td>...</td>\n",
       "      <td>...</td>\n",
       "      <td>...</td>\n",
       "      <td>...</td>\n",
       "    </tr>\n",
       "    <tr>\n",
       "      <th>707</th>\n",
       "      <td>0</td>\n",
       "      <td>0</td>\n",
       "      <td>1</td>\n",
       "      <td>1</td>\n",
       "      <td>0</td>\n",
       "    </tr>\n",
       "    <tr>\n",
       "      <th>708</th>\n",
       "      <td>1</td>\n",
       "      <td>0</td>\n",
       "      <td>0</td>\n",
       "      <td>0</td>\n",
       "      <td>1</td>\n",
       "    </tr>\n",
       "    <tr>\n",
       "      <th>709</th>\n",
       "      <td>0</td>\n",
       "      <td>0</td>\n",
       "      <td>1</td>\n",
       "      <td>0</td>\n",
       "      <td>1</td>\n",
       "    </tr>\n",
       "    <tr>\n",
       "      <th>710</th>\n",
       "      <td>0</td>\n",
       "      <td>1</td>\n",
       "      <td>0</td>\n",
       "      <td>0</td>\n",
       "      <td>1</td>\n",
       "    </tr>\n",
       "    <tr>\n",
       "      <th>711</th>\n",
       "      <td>1</td>\n",
       "      <td>0</td>\n",
       "      <td>0</td>\n",
       "      <td>0</td>\n",
       "      <td>1</td>\n",
       "    </tr>\n",
       "  </tbody>\n",
       "</table>\n",
       "<p>712 rows × 5 columns</p>\n",
       "</div>"
      ],
      "text/plain": [
       "     Pclass_1  Pclass_2  Pclass_3  female  male\n",
       "0           1         0         0       0     1\n",
       "1           1         0         0       1     0\n",
       "2           0         1         0       1     0\n",
       "3           0         1         0       0     1\n",
       "4           0         0         1       0     1\n",
       "..        ...       ...       ...     ...   ...\n",
       "707         0         0         1       1     0\n",
       "708         1         0         0       0     1\n",
       "709         0         0         1       0     1\n",
       "710         0         1         0       0     1\n",
       "711         1         0         0       0     1\n",
       "\n",
       "[712 rows x 5 columns]"
      ]
     },
     "execution_count": 69,
     "metadata": {},
     "output_type": "execute_result"
    }
   ],
   "source": [
    "dfresult = pd.DataFrame()\n",
    "dfPclass = pd.get_dummies(dftrain_raw['Pclass'])\n",
    "dfPclass.columns = ['Pclass_'+str(x) for x in dfPclass.columns ]\n",
    "dfresult = pd.concat([dfresult,dfPclass], axis = 1)\n",
    "\n",
    "dfSex = pd.get_dummies(dftrain_raw['Sex'])\n",
    "dfresult = pd.concat([dfresult,dfSex], axis = 1)\n",
    "\n",
    "\n"
   ]
  },
  {
   "cell_type": "code",
   "execution_count": 87,
   "id": "7a6f695d",
   "metadata": {},
   "outputs": [
    {
     "name": "stdout",
     "output_type": "stream",
     "text": [
      "Model: \"sequential\"\n",
      "_________________________________________________________________\n",
      " Layer (type)                Output Shape              Param #   \n",
      "=================================================================\n",
      " dense (Dense)               (None, 20)                320       \n",
      "                                                                 \n",
      " dense_1 (Dense)             (None, 10)                210       \n",
      "                                                                 \n",
      " dense_2 (Dense)             (None, 1)                 11        \n",
      "                                                                 \n",
      "=================================================================\n",
      "Total params: 541\n",
      "Trainable params: 541\n",
      "Non-trainable params: 0\n",
      "_________________________________________________________________\n"
     ]
    }
   ],
   "source": [
    "tf.keras.backend.clear_session()\n",
    "\n",
    "model = models.Sequential()\n",
    "model.add(layers.Dense(20, activation = 'relu', input_shape = (15,)))\n",
    "model.add(layers.Dense(10, activation = 'relu'))\n",
    "model.add(layers.Dense(1,activation = 'sigmoid' ))\n",
    "\n",
    "model.summary()"
   ]
  },
  {
   "cell_type": "code",
   "execution_count": 97,
   "id": "0e8ab1e1",
   "metadata": {},
   "outputs": [
    {
     "name": "stdout",
     "output_type": "stream",
     "text": [
      "Epoch 1/30\n",
      "9/9 [==============================] - 1s 37ms/step - loss: 0.5306 - auc: 0.8063 - val_loss: 0.5866 - val_auc: 0.7319\n",
      "Epoch 2/30\n",
      "9/9 [==============================] - 0s 5ms/step - loss: 0.5274 - auc: 0.8125 - val_loss: 0.5842 - val_auc: 0.7383\n",
      "Epoch 3/30\n",
      "9/9 [==============================] - 0s 6ms/step - loss: 0.5083 - auc: 0.8259 - val_loss: 0.5816 - val_auc: 0.7384\n",
      "Epoch 4/30\n",
      "9/9 [==============================] - 0s 5ms/step - loss: 0.5047 - auc: 0.8305 - val_loss: 0.5754 - val_auc: 0.7333\n",
      "Epoch 5/30\n",
      "9/9 [==============================] - 0s 5ms/step - loss: 0.5012 - auc: 0.8315 - val_loss: 0.5802 - val_auc: 0.7469\n",
      "Epoch 6/30\n",
      "9/9 [==============================] - 0s 5ms/step - loss: 0.5039 - auc: 0.8365 - val_loss: 0.5724 - val_auc: 0.7427\n",
      "Epoch 7/30\n",
      "9/9 [==============================] - 0s 5ms/step - loss: 0.4932 - auc: 0.8361 - val_loss: 0.5686 - val_auc: 0.7476\n",
      "Epoch 8/30\n",
      "9/9 [==============================] - 0s 5ms/step - loss: 0.4882 - auc: 0.8408 - val_loss: 0.5678 - val_auc: 0.7545\n",
      "Epoch 9/30\n",
      "9/9 [==============================] - 0s 5ms/step - loss: 0.4816 - auc: 0.8482 - val_loss: 0.5619 - val_auc: 0.7569\n",
      "Epoch 10/30\n",
      "9/9 [==============================] - 0s 5ms/step - loss: 0.4804 - auc: 0.8457 - val_loss: 0.5675 - val_auc: 0.7587\n",
      "Epoch 11/30\n",
      "9/9 [==============================] - 0s 5ms/step - loss: 0.4732 - auc: 0.8569 - val_loss: 0.5592 - val_auc: 0.7573\n",
      "Epoch 12/30\n",
      "9/9 [==============================] - 0s 5ms/step - loss: 0.4761 - auc: 0.8481 - val_loss: 0.5629 - val_auc: 0.7630\n",
      "Epoch 13/30\n",
      "9/9 [==============================] - 0s 4ms/step - loss: 0.4652 - auc: 0.8597 - val_loss: 0.5571 - val_auc: 0.7653\n",
      "Epoch 14/30\n",
      "9/9 [==============================] - 0s 5ms/step - loss: 0.4580 - auc: 0.8578 - val_loss: 0.5569 - val_auc: 0.7677\n",
      "Epoch 15/30\n",
      "9/9 [==============================] - 0s 5ms/step - loss: 0.4577 - auc: 0.8599 - val_loss: 0.5515 - val_auc: 0.7673\n",
      "Epoch 16/30\n",
      "9/9 [==============================] - 0s 5ms/step - loss: 0.4552 - auc: 0.8610 - val_loss: 0.5500 - val_auc: 0.7711\n",
      "Epoch 17/30\n",
      "9/9 [==============================] - 0s 5ms/step - loss: 0.4503 - auc: 0.8622 - val_loss: 0.5502 - val_auc: 0.7707\n",
      "Epoch 18/30\n",
      "9/9 [==============================] - 0s 5ms/step - loss: 0.4460 - auc: 0.8652 - val_loss: 0.5522 - val_auc: 0.7745\n",
      "Epoch 19/30\n",
      "9/9 [==============================] - 0s 5ms/step - loss: 0.4425 - auc: 0.8677 - val_loss: 0.5485 - val_auc: 0.7746\n",
      "Epoch 20/30\n",
      "9/9 [==============================] - 0s 5ms/step - loss: 0.4434 - auc: 0.8654 - val_loss: 0.5527 - val_auc: 0.7727\n",
      "Epoch 21/30\n",
      "9/9 [==============================] - 0s 5ms/step - loss: 0.4407 - auc: 0.8656 - val_loss: 0.5575 - val_auc: 0.7731\n",
      "Epoch 22/30\n",
      "9/9 [==============================] - 0s 4ms/step - loss: 0.4373 - auc: 0.8715 - val_loss: 0.5485 - val_auc: 0.7728\n",
      "Epoch 23/30\n",
      "9/9 [==============================] - 0s 5ms/step - loss: 0.4360 - auc: 0.8671 - val_loss: 0.5467 - val_auc: 0.7783\n",
      "Epoch 24/30\n",
      "9/9 [==============================] - 0s 5ms/step - loss: 0.4315 - auc: 0.8728 - val_loss: 0.5525 - val_auc: 0.7784\n",
      "Epoch 25/30\n",
      "9/9 [==============================] - 0s 5ms/step - loss: 0.4346 - auc: 0.8685 - val_loss: 0.5475 - val_auc: 0.7787\n",
      "Epoch 26/30\n",
      "9/9 [==============================] - 0s 5ms/step - loss: 0.4260 - auc: 0.8725 - val_loss: 0.5523 - val_auc: 0.7771\n",
      "Epoch 27/30\n",
      "9/9 [==============================] - 0s 5ms/step - loss: 0.4252 - auc: 0.8739 - val_loss: 0.5443 - val_auc: 0.7782\n",
      "Epoch 28/30\n",
      "9/9 [==============================] - 0s 5ms/step - loss: 0.4289 - auc: 0.8719 - val_loss: 0.5597 - val_auc: 0.7764\n",
      "Epoch 29/30\n",
      "9/9 [==============================] - 0s 5ms/step - loss: 0.4357 - auc: 0.8683 - val_loss: 0.5628 - val_auc: 0.7743\n",
      "Epoch 30/30\n",
      "9/9 [==============================] - 0s 5ms/step - loss: 0.4225 - auc: 0.8743 - val_loss: 0.5498 - val_auc: 0.7773\n"
     ]
    }
   ],
   "source": [
    "model.compile(optimizer='adam',\n",
    "            loss='binary_crossentropy',\n",
    "            metrics= ['AUC'])\n",
    "\n",
    "history = model.fit(x_train,y_train,\n",
    "                    batch_size= 64,\n",
    "                    epochs= 30,\n",
    "                    validation_split=0.2 #分割一部分训练数据用于验证\n",
    "                   )"
   ]
  },
  {
   "cell_type": "code",
   "execution_count": 98,
   "id": "55434a3d",
   "metadata": {},
   "outputs": [],
   "source": [
    "def plot_metric(history, metric):\n",
    "    train_metrics = history.history[metric]\n",
    "    val_metrics = history.history['val_'+metric]\n",
    "    epochs = range(1, len(train_metrics) + 1)\n",
    "    plt.plot(epochs, train_metrics, 'bo--')\n",
    "    plt.plot(epochs, val_metrics, 'ro-')\n",
    "    plt.title('Training and validation '+ metric)\n",
    "    plt.xlabel(\"Epochs\")\n",
    "    plt.ylabel(metric)\n",
    "    plt.legend([\"train_\"+metric, 'val_'+metric])\n",
    "    plt.show()"
   ]
  },
  {
   "cell_type": "code",
   "execution_count": 92,
   "id": "59cc7387",
   "metadata": {},
   "outputs": [
    {
     "data": {
      "image/png": "[encoded data removed]",
      "text/plain": [
       "<Figure size 432x288 with 1 Axes>"
      ]
     },
     "metadata": {
      "needs_background": "light"
     },
     "output_type": "display_data"
    }
   ],
   "source": [
    "plot_metric(history,\"loss\")"
   ]
  },
  {
   "cell_type": "code",
   "execution_count": 100,
   "id": "386f912f",
   "metadata": {},
   "outputs": [
    {
     "ename": "KeyError",
     "evalue": "'AUC'",
     "output_type": "error",
     "traceback": [
      "\u001b[1;31m---------------------------------------------------------------------------\u001b[0m",
      "\u001b[1;31mKeyError\u001b[0m                                  Traceback (most recent call last)",
      "\u001b[1;32m<ipython-input-100-9c83802cbf6a>\u001b[0m in \u001b[0;36m<module>\u001b[1;34m\u001b[0m\n\u001b[1;32m----> 1\u001b[1;33m \u001b[0mplot_metric\u001b[0m\u001b[1;33m(\u001b[0m\u001b[0mhistory\u001b[0m\u001b[1;33m,\u001b[0m\u001b[1;34m'AUC'\u001b[0m\u001b[1;33m)\u001b[0m\u001b[1;33m\u001b[0m\u001b[1;33m\u001b[0m\u001b[0m\n\u001b[0m",
      "\u001b[1;32m<ipython-input-98-f552db53541f>\u001b[0m in \u001b[0;36mplot_metric\u001b[1;34m(history, metric)\u001b[0m\n\u001b[0;32m      1\u001b[0m \u001b[1;32mdef\u001b[0m \u001b[0mplot_metric\u001b[0m\u001b[1;33m(\u001b[0m\u001b[0mhistory\u001b[0m\u001b[1;33m,\u001b[0m \u001b[0mmetric\u001b[0m\u001b[1;33m)\u001b[0m\u001b[1;33m:\u001b[0m\u001b[1;33m\u001b[0m\u001b[1;33m\u001b[0m\u001b[0m\n\u001b[1;32m----> 2\u001b[1;33m     \u001b[0mtrain_metrics\u001b[0m \u001b[1;33m=\u001b[0m \u001b[0mhistory\u001b[0m\u001b[1;33m.\u001b[0m\u001b[0mhistory\u001b[0m\u001b[1;33m[\u001b[0m\u001b[0mmetric\u001b[0m\u001b[1;33m]\u001b[0m\u001b[1;33m\u001b[0m\u001b[1;33m\u001b[0m\u001b[0m\n\u001b[0m\u001b[0;32m      3\u001b[0m     \u001b[0mval_metrics\u001b[0m \u001b[1;33m=\u001b[0m \u001b[0mhistory\u001b[0m\u001b[1;33m.\u001b[0m\u001b[0mhistory\u001b[0m\u001b[1;33m[\u001b[0m\u001b[1;34m'val_'\u001b[0m\u001b[1;33m+\u001b[0m\u001b[0mmetric\u001b[0m\u001b[1;33m]\u001b[0m\u001b[1;33m\u001b[0m\u001b[1;33m\u001b[0m\u001b[0m\n\u001b[0;32m      4\u001b[0m     \u001b[0mepochs\u001b[0m \u001b[1;33m=\u001b[0m \u001b[0mrange\u001b[0m\u001b[1;33m(\u001b[0m\u001b[1;36m1\u001b[0m\u001b[1;33m,\u001b[0m \u001b[0mlen\u001b[0m\u001b[1;33m(\u001b[0m\u001b[0mtrain_metrics\u001b[0m\u001b[1;33m)\u001b[0m \u001b[1;33m+\u001b[0m \u001b[1;36m1\u001b[0m\u001b[1;33m)\u001b[0m\u001b[1;33m\u001b[0m\u001b[1;33m\u001b[0m\u001b[0m\n\u001b[0;32m      5\u001b[0m     \u001b[0mplt\u001b[0m\u001b[1;33m.\u001b[0m\u001b[0mplot\u001b[0m\u001b[1;33m(\u001b[0m\u001b[0mepochs\u001b[0m\u001b[1;33m,\u001b[0m \u001b[0mtrain_metrics\u001b[0m\u001b[1;33m,\u001b[0m \u001b[1;34m'bo--'\u001b[0m\u001b[1;33m)\u001b[0m\u001b[1;33m\u001b[0m\u001b[1;33m\u001b[0m\u001b[0m\n",
      "\u001b[1;31mKeyError\u001b[0m: 'AUC'"
     ]
    }
   ],
   "source": [
    "plot_metric(history,'AUC')"
   ]
  },
  {
   "cell_type": "code",
   "execution_count": 101,
   "id": "e1ecf885",
   "metadata": {},
   "outputs": [
    {
     "name": "stdout",
     "output_type": "stream",
     "text": [
      "6/6 [==============================] - 0s 2ms/step - loss: 0.4355 - auc: 0.8582\n"
     ]
    },
    {
     "data": {
      "text/plain": [
       "[0.4354574680328369, 0.8581691980361938]"
      ]
     },
     "execution_count": 101,
     "metadata": {},
     "output_type": "execute_result"
    }
   ],
   "source": [
    "model.evaluate(x = x_test,y = y_test)\n"
   ]
  },
  {
   "cell_type": "code",
   "execution_count": 104,
   "id": "05c2a043",
   "metadata": {},
   "outputs": [
    {
     "data": {
      "text/plain": [
       "array([[0.08595225],\n",
       "       [0.52502406],\n",
       "       [0.5115973 ],\n",
       "       [0.97081137],\n",
       "       [0.71905947],\n",
       "       [0.72592634],\n",
       "       [0.09595841],\n",
       "       [0.91302073],\n",
       "       [0.52733535],\n",
       "       [0.12480706]], dtype=float32)"
      ]
     },
     "execution_count": 104,
     "metadata": {},
     "output_type": "execute_result"
    }
   ],
   "source": [
    "model.predict(x_test[0:10])"
   ]
  },
  {
   "cell_type": "code",
   "execution_count": 103,
   "id": "7a038460",
   "metadata": {},
   "outputs": [
    {
     "ename": "AttributeError",
     "evalue": "'Sequential' object has no attribute 'predict_classes'",
     "output_type": "error",
     "traceback": [
      "\u001b[1;31m---------------------------------------------------------------------------\u001b[0m",
      "\u001b[1;31mAttributeError\u001b[0m                            Traceback (most recent call last)",
      "\u001b[1;32m<ipython-input-103-a161a0a6b51e>\u001b[0m in \u001b[0;36m<module>\u001b[1;34m\u001b[0m\n\u001b[1;32m----> 1\u001b[1;33m \u001b[0mmodel\u001b[0m\u001b[1;33m.\u001b[0m\u001b[0mpredict_classes\u001b[0m\u001b[1;33m(\u001b[0m\u001b[0mx_test\u001b[0m\u001b[1;33m[\u001b[0m\u001b[1;36m0\u001b[0m\u001b[1;33m:\u001b[0m\u001b[1;36m10\u001b[0m\u001b[1;33m]\u001b[0m\u001b[1;33m)\u001b[0m\u001b[1;33m\u001b[0m\u001b[1;33m\u001b[0m\u001b[0m\n\u001b[0m",
      "\u001b[1;31mAttributeError\u001b[0m: 'Sequential' object has no attribute 'predict_classes'"
     ]
    }
   ],
   "source": [
    "model.predict_classes(x_test[0:10])"
   ]
  },
  {
   "cell_type": "code",
   "execution_count": null,
   "id": "99b6e08b",
   "metadata": {},
   "outputs": [],
   "source": []
  }
 ],
 "metadata": {
  "kernelspec": {
   "display_name": "Python 3",
   "language": "python",
   "name": "python3"
  },
  "language_info": {
   "codemirror_mode": {
    "name": "ipython",
    "version": 3
   },
   "file_extension": ".py",
   "mimetype": "text/x-python",
   "name": "python",
   "nbconvert_exporter": "python",
   "pygments_lexer": "ipython3",
   "version": "3.8.8"
  }
 },
 "nbformat": 4,
 "nbformat_minor": 5
}
