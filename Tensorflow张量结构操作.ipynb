{
 "cells": [
  {
   "cell_type": "code",
   "execution_count": 73,
   "id": "ed4b7f1f",
   "metadata": {},
   "outputs": [],
   "source": [
    "import tensorflow as tf\n",
    "import matplotlib.pyplot as plt\n",
    "import numpy as np\n",
    "import pandas as pd"
   ]
  },
  {
   "cell_type": "code",
   "execution_count": 2,
   "id": "bfa34fac",
   "metadata": {},
   "outputs": [
    {
     "name": "stdout",
     "output_type": "stream",
     "text": [
      "hello world\r\n"
     ]
    }
   ],
   "source": [
    "x = tf.constant('hello')\n",
    "y = tf.constant('world')\n",
    "z = tf.strings.join([x,y], separator = ' ')\n",
    "tf.print(z)"
   ]
  },
  {
   "cell_type": "code",
   "execution_count": 3,
   "id": "3de47bb6",
   "metadata": {},
   "outputs": [
    {
     "name": "stdout",
     "output_type": "stream",
     "text": [
      "hello world\n",
      "tf.Tensor(b'hello world', shape=(), dtype=string)\n"
     ]
    }
   ],
   "source": [
    "def strjoin(x,y):\n",
    "    z =  tf.strings.join([x,y],separator = \" \")\n",
    "    tf.print(z)\n",
    "    return z\n",
    "\n",
    "result = strjoin(tf.constant(\"hello\"),tf.constant(\"world\"))\n",
    "print(result)"
   ]
  },
  {
   "cell_type": "code",
   "execution_count": 4,
   "id": "a64be740",
   "metadata": {},
   "outputs": [
    {
     "name": "stdout",
     "output_type": "stream",
     "text": [
      "hello world\n",
      "tf.Tensor(b'hello world', shape=(), dtype=string)\n"
     ]
    }
   ],
   "source": [
    "import tensorflow as tf\n",
    "\n",
    "# 使用autograph构建静态图\n",
    "\n",
    "@tf.function\n",
    "def strjoin(x,y):\n",
    "    z =  tf.strings.join([x,y],separator = \" \")\n",
    "    tf.print(z)\n",
    "    return z\n",
    "\n",
    "result = strjoin(tf.constant(\"hello\"),tf.constant(\"world\"))\n",
    "\n",
    "print(result)"
   ]
  },
  {
   "cell_type": "code",
   "execution_count": 5,
   "id": "693ced1d",
   "metadata": {},
   "outputs": [],
   "source": [
    "%load_ext tensorboard\n"
   ]
  },
  {
   "cell_type": "code",
   "execution_count": 6,
   "id": "93f3e475",
   "metadata": {},
   "outputs": [
    {
     "name": "stdout",
     "output_type": "stream",
     "text": [
      "(-2, 1)\n",
      "(0, 0)\n"
     ]
    }
   ],
   "source": [
    "def f(x):   \n",
    "    a = tf.constant(1.0)\n",
    "    b = tf.constant(-2.0)\n",
    "    c = tf.constant(1.0)\n",
    "    \n",
    "    # 自变量转换成tf.float32\n",
    "    #x = tf.cast(x,tf.float32)\n",
    "    with tf.GradientTape() as tape:\n",
    "        tape.watch(x)             \n",
    "        y = a*tf.pow(x,2)+b*x+c\n",
    "    dy_dx = tape.gradient(y,x) \n",
    "    \n",
    "    return((dy_dx,y))\n",
    "\n",
    "tf.print(f(tf.constant(0.0)))\n",
    "tf.print(f(tf.constant(1.0)))"
   ]
  },
  {
   "cell_type": "code",
   "execution_count": 7,
   "id": "23defc02",
   "metadata": {},
   "outputs": [
    {
     "name": "stdout",
     "output_type": "stream",
     "text": [
      "y= 0 x= 0.999998569\r\n"
     ]
    }
   ],
   "source": [
    "x = tf.Variable(0.0, dtype = tf.float32)\n",
    "def f():\n",
    "    a = tf.constant(1.0)\n",
    "    b = tf.constant(-2.0)\n",
    "    c = tf.constant(1.0)\n",
    "    y = a*tf.pow(x,2) + b*x + c\n",
    "    return(y)\n",
    "\n",
    "optimizer = tf.keras.optimizers.SGD(learning_rate = 0.01)\n",
    "for _ in range(10000):\n",
    "    optimizer.minimize(f, [x])\n",
    "\n",
    "tf.print('y=',f(),'x=', x)"
   ]
  },
  {
   "cell_type": "markdown",
   "id": "66763a9b",
   "metadata": {},
   "source": [
    "# @tf.function 速度快"
   ]
  },
  {
   "cell_type": "code",
   "execution_count": 8,
   "id": "b5a66b14",
   "metadata": {},
   "outputs": [
    {
     "name": "stdout",
     "output_type": "stream",
     "text": [
      "0\n",
      "0.999998569\n"
     ]
    }
   ],
   "source": [
    "x = tf.Variable(0.0,name = \"x\",dtype = tf.float32)\n",
    "optimizer = tf.keras.optimizers.SGD(learning_rate=0.01)\n",
    "\n",
    "@tf.function\n",
    "def minimizef():\n",
    "    a = tf.constant(1.0)\n",
    "    b = tf.constant(-2.0)\n",
    "    c = tf.constant(1.0)\n",
    "    \n",
    "    for _ in tf.range(10000): #注意autograph时使用tf.range(1000)而不是range(1000)\n",
    "        with tf.GradientTape() as tape:\n",
    "            y = a*tf.pow(x,2) + b*x + c\n",
    "        dy_dx = tape.gradient(y,x)\n",
    "        optimizer.apply_gradients(grads_and_vars=[(dy_dx,x)])\n",
    "        \n",
    "    y = a*tf.pow(x,2) + b*x + c\n",
    "    return y\n",
    "\n",
    "tf.print(minimizef())\n",
    "tf.print(x)"
   ]
  },
  {
   "cell_type": "code",
   "execution_count": 9,
   "id": "702238e7",
   "metadata": {},
   "outputs": [
    {
     "name": "stdout",
     "output_type": "stream",
     "text": [
      "[1 2 3]\r\n"
     ]
    }
   ],
   "source": [
    "a = tf.constant([1,2,3], dtype = tf.float32)\n",
    "tf.print(a)"
   ]
  },
  {
   "cell_type": "code",
   "execution_count": 10,
   "id": "1b10ae49",
   "metadata": {},
   "outputs": [
    {
     "name": "stdout",
     "output_type": "stream",
     "text": [
      "[1 3 5 7 9]\r\n"
     ]
    }
   ],
   "source": [
    "b = tf.range(1,10, delta = 2)\n",
    "tf.print(b)"
   ]
  },
  {
   "cell_type": "code",
   "execution_count": 11,
   "id": "144ef670",
   "metadata": {},
   "outputs": [
    {
     "name": "stdout",
     "output_type": "stream",
     "text": [
      "[0 0.0634343475 0.126868695 ... 6.15313148 6.21656609 6.28]\r\n"
     ]
    }
   ],
   "source": [
    "c = tf.linspace(0.0,2*3.14,100)\n",
    "tf.print(c)"
   ]
  },
  {
   "cell_type": "code",
   "execution_count": 12,
   "id": "34423a4b",
   "metadata": {},
   "outputs": [
    {
     "name": "stdout",
     "output_type": "stream",
     "text": [
      "[[0 0 0]\n",
      " [0 0 0]\n",
      " [0 0 0]]\r\n"
     ]
    }
   ],
   "source": [
    "d = tf.zeros([3,3])\n",
    "#d = tf.zeros((3,3))        Same\n",
    "tf.print(d)"
   ]
  },
  {
   "cell_type": "code",
   "execution_count": 13,
   "id": "16943970",
   "metadata": {},
   "outputs": [
    {
     "name": "stdout",
     "output_type": "stream",
     "text": [
      "[[1 1 1]\n",
      " [1 1 1]\n",
      " [1 1 1]]\n",
      "[[0 0 0]\n",
      " [0 0 0]\n",
      " [0 0 0]]\n"
     ]
    }
   ],
   "source": [
    "a = tf.ones((3,3))\n",
    "b = tf.zeros_like(a, dtype = tf.float32)\n",
    "tf.print(a)\n",
    "tf.print(b)"
   ]
  },
  {
   "cell_type": "code",
   "execution_count": 14,
   "id": "f641c612",
   "metadata": {},
   "outputs": [
    {
     "name": "stdout",
     "output_type": "stream",
     "text": [
      "[[6 6]\n",
      " [6 6]\n",
      " [6 6]]\r\n"
     ]
    }
   ],
   "source": [
    "c = tf.fill((3,2),6)\n",
    "tf.print(c)"
   ]
  },
  {
   "cell_type": "code",
   "execution_count": 15,
   "id": "f6fd4302",
   "metadata": {},
   "outputs": [
    {
     "name": "stdout",
     "output_type": "stream",
     "text": [
      "[[1.65130854 9.01481247 6.30974197 4.34546089 2.9193902]\n",
      " [6.42502069 9.75785446 4.35099506 6.60101891 6.0489583]\n",
      " [6.36631489 6.14448786 8.89334869 6.27761745 5.31975031]\n",
      " [0.259782076 4.40875053 2.52670765 8.86223221 8.87293434]\n",
      " [7.87281609 0.595519543 0.710938 3.08414698 2.51182675]]\r\n"
     ]
    },
    {
     "data": {
      "text/plain": [
       "array([[1.6513085 , 9.014812  , 6.309742  , 4.345461  , 2.9193902 ],\n",
       "       [6.4250207 , 9.757854  , 4.350995  , 6.601019  , 6.0489583 ],\n",
       "       [6.366315  , 6.144488  , 8.893349  , 6.2776175 , 5.3197503 ],\n",
       "       [0.25978208, 4.4087505 , 2.5267076 , 8.862232  , 8.872934  ],\n",
       "       [7.872816  , 0.59551954, 0.710938  , 3.084147  , 2.5118268 ]],\n",
       "      dtype=float32)"
      ]
     },
     "execution_count": 15,
     "metadata": {},
     "output_type": "execute_result"
    }
   ],
   "source": [
    "tf.random.set_seed(1.0)\n",
    "a = tf.random.uniform([5,5], minval = 0, maxval = 10)\n",
    "tf.print(a)\n",
    "\n",
    "a.numpy()"
   ]
  },
  {
   "cell_type": "code",
   "execution_count": 16,
   "id": "99a1965d",
   "metadata": {},
   "outputs": [
    {
     "name": "stdout",
     "output_type": "stream",
     "text": [
      "[[-1.10122025 1.54575169 0.383644]\n",
      " [-0.879657865 -1.2246722 -0.981121123]\n",
      " [0.0878078267 -0.203260377 -0.558156192]]\r\n"
     ]
    }
   ],
   "source": [
    "tf.random.set_seed(1.0)\n",
    "\n",
    "b = tf.random.normal((3,3),mean = 0.0, stddev = 1.0)\n",
    "tf.print(b)"
   ]
  },
  {
   "cell_type": "code",
   "execution_count": 17,
   "id": "b49c1450",
   "metadata": {},
   "outputs": [
    {
     "name": "stdout",
     "output_type": "stream",
     "text": [
      "[[0.403087884 -1.0880208 -0.0630953535 1.33655667 -0.166902035]\n",
      " [0.985428274 -0.201567009 1.33069396 0.482788384 -0.468631625]\n",
      " [0.830428779 -0.64412874 1.01190746 0.466679752 -0.567880094]\n",
      " [-1.74263501 0.316212177 -0.631055892 0.50597626 -1.21443057]\n",
      " [0.0597660579 0.0369502194 0.88362354 1.8155154 0.142478839]]\r\n"
     ]
    }
   ],
   "source": [
    "#正态分布随机，剔除2倍方差以外数据重新生成\n",
    "c = tf.random.truncated_normal((5,5),mean = 0,stddev = 1, dtype = tf.float32)\n",
    "tf.print(c)"
   ]
  },
  {
   "cell_type": "code",
   "execution_count": 19,
   "id": "2a40833e",
   "metadata": {},
   "outputs": [
    {
     "name": "stdout",
     "output_type": "stream",
     "text": [
      "[[1 0 0]\n",
      " [0 1 0]\n",
      " [0 0 1]]\n",
      " \n",
      "[[1 0 0]\n",
      " [0 2 0]\n",
      " [0 0 3]]\n"
     ]
    }
   ],
   "source": [
    "I = tf.eye(3,3)\n",
    "tf.print(I)\n",
    "tf.print(' ')\n",
    "t = tf.linalg.diag([1,2,3])\n",
    "tf.print(t)"
   ]
  },
  {
   "cell_type": "code",
   "execution_count": 20,
   "id": "2b8c5fc2",
   "metadata": {},
   "outputs": [
    {
     "name": "stdout",
     "output_type": "stream",
     "text": [
      "[[4 7 4 2 9]\n",
      " [9 1 2 4 7]\n",
      " [7 2 7 4 0]\n",
      " [9 6 9 7 2]\n",
      " [3 7 0 0 3]]\r\n"
     ]
    }
   ],
   "source": [
    "tf.random.set_seed(3)\n",
    "t = tf.random.uniform((5,5), minval = 0, maxval = 10, dtype = tf.int32)\n",
    "tf.print(t)"
   ]
  },
  {
   "cell_type": "code",
   "execution_count": 23,
   "id": "1544386f",
   "metadata": {},
   "outputs": [
    {
     "name": "stdout",
     "output_type": "stream",
     "text": [
      "[4 7 4 2 9]\n",
      "[3 7 0 0 3]\n"
     ]
    }
   ],
   "source": [
    "t[0]\n",
    "tf.print(t[0])          #第一行\n",
    "tf.print(t[-1])         #最后一行"
   ]
  },
  {
   "cell_type": "code",
   "execution_count": 27,
   "id": "6388b4d8",
   "metadata": {},
   "outputs": [
    {
     "name": "stdout",
     "output_type": "stream",
     "text": [
      "2\n",
      "2\n"
     ]
    }
   ],
   "source": [
    "tf.print(t[1,2])    #第2行第3列\n",
    "tf.print(t[1][2])"
   ]
  },
  {
   "cell_type": "code",
   "execution_count": 30,
   "id": "55db530c",
   "metadata": {},
   "outputs": [
    {
     "name": "stdout",
     "output_type": "stream",
     "text": [
      "[[9 1 2 4 7]\n",
      " [7 2 7 4 0]\n",
      " [9 6 9 7 2]]\n",
      "[[9 1 2 4 7]\n",
      " [7 2 7 4 0]\n",
      " [9 6 9 7 2]]\n"
     ]
    }
   ],
   "source": [
    "tf.print(t[1:4,:])           #切片\n",
    "tf.print(tf.slice(t,[1,0],[3,5]))"
   ]
  },
  {
   "cell_type": "code",
   "execution_count": 32,
   "id": "e6b8a7da",
   "metadata": {},
   "outputs": [
    {
     "name": "stdout",
     "output_type": "stream",
     "text": [
      "[[1 2]\n",
      " [0 0]]\r\n"
     ]
    }
   ],
   "source": [
    "#可以使用索引和切片修改部分元素\n",
    "x = tf.Variable([[1,2],[3,4]], dtype = tf.float32)\n",
    "x[1,:].assign(tf.constant([0.0,0.0]))\n",
    "tf.print(x)"
   ]
  },
  {
   "cell_type": "code",
   "execution_count": 34,
   "id": "a1f30b80",
   "metadata": {},
   "outputs": [
    {
     "name": "stdout",
     "output_type": "stream",
     "text": [
      "[[[2 2 6]\n",
      "  [5 7 6]\n",
      "  [4 8 6]]\n",
      "\n",
      " [[4 6 3]\n",
      "  [8 1 7]\n",
      "  [3 1 3]]\n",
      "\n",
      " [[2 1 6]\n",
      "  [3 1 8]\n",
      "  [9 3 7]]]\r\n"
     ]
    }
   ],
   "source": [
    "a = tf.random.uniform([3,3,3],minval = 0, maxval = 10, dtype = tf.int32)\n",
    "tf.print(a)"
   ]
  },
  {
   "cell_type": "code",
   "execution_count": 35,
   "id": "8a827ad1",
   "metadata": {},
   "outputs": [
    {
     "name": "stdout",
     "output_type": "stream",
     "text": [
      "[[2 7 8]\n",
      " [6 1 1]\n",
      " [1 1 3]]\r\n"
     ]
    }
   ],
   "source": [
    "tf.print(a[...,1])  #取第二列\n"
   ]
  },
  {
   "cell_type": "code",
   "execution_count": 36,
   "id": "941f1204",
   "metadata": {},
   "outputs": [
    {
     "name": "stdout",
     "output_type": "stream",
     "text": [
      "[[[0 64 96 ... 65 28 30]\n",
      "  [16 99 74 ... 26 5 39]\n",
      "  [12 48 9 ... 34 76 10]\n",
      "  ...\n",
      "  [70 79 37 ... 72 38 31]\n",
      "  [65 55 44 ... 31 23 64]\n",
      "  [88 59 9 ... 64 66 92]]\n",
      "\n",
      " [[11 24 9 ... 16 35 59]\n",
      "  [46 46 87 ... 38 62 36]\n",
      "  [37 52 47 ... 2 51 48]\n",
      "  ...\n",
      "  [74 95 6 ... 49 9 54]\n",
      "  [67 47 74 ... 11 68 6]\n",
      "  [92 29 27 ... 59 99 71]]\n",
      "\n",
      " [[78 37 24 ... 54 9 79]\n",
      "  [77 99 5 ... 97 53 84]\n",
      "  [25 26 89 ... 74 22 75]\n",
      "  ...\n",
      "  [94 67 77 ... 97 56 38]\n",
      "  [61 44 50 ... 72 87 44]\n",
      "  [48 67 96 ... 60 23 82]]\n",
      "\n",
      " [[64 74 80 ... 49 58 12]\n",
      "  [19 51 31 ... 57 39 67]\n",
      "  [16 31 46 ... 94 50 13]\n",
      "  ...\n",
      "  [20 81 89 ... 4 85 66]\n",
      "  [90 19 14 ... 99 27 96]\n",
      "  [35 63 52 ... 34 59 64]]]\r\n"
     ]
    }
   ],
   "source": [
    "# 4x7x10  四个班级 每个班级10个学生 每个学生7门课程\n",
    "scores = tf.random.uniform((4,10,7),minval = 0, maxval = 100, dtype = tf.int32)\n",
    "tf.print(scores)"
   ]
  },
  {
   "cell_type": "code",
   "execution_count": 40,
   "id": "fe0aa789",
   "metadata": {},
   "outputs": [
    {
     "name": "stdout",
     "output_type": "stream",
     "text": [
      "[[[0 64 96 ... 65 28 30]\n",
      "  [43 38 66 ... 7 7 65]\n",
      "  [88 59 9 ... 64 66 92]]\n",
      "\n",
      " [[11 24 9 ... 16 35 59]\n",
      "  [94 3 55 ... 4 93 52]\n",
      "  [92 29 27 ... 59 99 71]]\n",
      "\n",
      " [[78 37 24 ... 54 9 79]\n",
      "  [95 17 83 ... 99 84 96]\n",
      "  [48 67 96 ... 60 23 82]]\n",
      "\n",
      " [[64 74 80 ... 49 58 12]\n",
      "  [82 71 32 ... 49 39 28]\n",
      "  [35 63 52 ... 34 59 64]]]\r\n"
     ]
    }
   ],
   "source": [
    "#axis =1 抽取所有班级中学生0,5,9的所有成绩               axis=0即为抽取班级\n",
    "p = tf.gather(scores, [0,5,9],axis =1)\n",
    "tf.print(p)"
   ]
  },
  {
   "cell_type": "code",
   "execution_count": 41,
   "id": "c5863b47",
   "metadata": {},
   "outputs": [
    {
     "name": "stdout",
     "output_type": "stream",
     "text": [
      "[[[64 49 30]\n",
      "  [38 4 65]\n",
      "  [59 25 92]]\n",
      "\n",
      " [[24 58 59]\n",
      "  [3 30 52]\n",
      "  [29 76 71]]\n",
      "\n",
      " [[37 59 79]\n",
      "  [17 0 96]\n",
      "  [67 84 82]]\n",
      "\n",
      " [[74 83 12]\n",
      "  [71 36 28]\n",
      "  [63 84 64]]]\r\n"
     ]
    }
   ],
   "source": [
    "q = tf.gather(tf.gather(scores,[0,5,9],axis =1),[1,3,6],axis = 2)\n",
    "tf.print(q)"
   ]
  },
  {
   "cell_type": "code",
   "execution_count": 44,
   "id": "a6ca0a59",
   "metadata": {},
   "outputs": [
    {
     "name": "stdout",
     "output_type": "stream",
     "text": [
      "[[0 64 96 ... 65 28 30]\n",
      " [58 58 96 ... 51 33 64]\n",
      " [8 43 24 ... 87 79 10]]\r\n"
     ]
    }
   ],
   "source": [
    "#第0班级第0学生，第2班级第四学生，第三班级第六学生所有成绩\n",
    "s = tf.gather_nd(scores, indices = [(0,0),(2,4),(3,6)])\n",
    "s\n",
    "tf.print(s)"
   ]
  },
  {
   "cell_type": "code",
   "execution_count": 50,
   "id": "cd63a8a8",
   "metadata": {},
   "outputs": [
    {
     "name": "stdout",
     "output_type": "stream",
     "text": [
      "[[[0 64 96 ... 65 28 30]\n",
      "  [43 38 66 ... 7 7 65]\n",
      "  [88 59 9 ... 64 66 92]]\n",
      "\n",
      " [[11 24 9 ... 16 35 59]\n",
      "  [94 3 55 ... 4 93 52]\n",
      "  [92 29 27 ... 59 99 71]]\n",
      "\n",
      " [[78 37 24 ... 54 9 79]\n",
      "  [95 17 83 ... 99 84 96]\n",
      "  [48 67 96 ... 60 23 82]]\n",
      "\n",
      " [[64 74 80 ... 49 58 12]\n",
      "  [82 71 32 ... 49 39 28]\n",
      "  [35 63 52 ... 34 59 64]]]\r\n"
     ]
    }
   ],
   "source": [
    "## axis = 1 所有班级第0,5,9个学生所有成绩\n",
    "p = tf.boolean_mask(scores,[True,False,False,False,False,True,False,False,False,True],axis = 1)\n",
    "tf.print(p)"
   ]
  },
  {
   "cell_type": "code",
   "execution_count": 53,
   "id": "0b46d9ce",
   "metadata": {},
   "outputs": [
    {
     "name": "stdout",
     "output_type": "stream",
     "text": [
      "[[-1 1 -1]\n",
      " [2 2 0]\n",
      " [3 -3 3]] \n",
      "\n",
      "[-1 -1 -3] \n",
      "\n",
      "[-1 -1 -3]\n"
     ]
    }
   ],
   "source": [
    "#利用tf.boolean_mask实现布尔索引\n",
    "\n",
    "c = tf.constant([[-1,1,-1],[2,2,0],[3,-3,3]],dtype = tf.int32)\n",
    "tf.print(c, '\\n')\n",
    "\n",
    "tf.print(tf.boolean_mask(c,c < 0),'\\n')\n",
    "tf.print(c[c<0])"
   ]
  },
  {
   "cell_type": "code",
   "execution_count": 75,
   "id": "2acf0f74",
   "metadata": {},
   "outputs": [
    {
     "data": {
      "text/plain": [
       "<tf.Tensor: shape=(3, 3), dtype=float32, numpy=\n",
       "array([[nan,  1., nan],\n",
       "       [ 2.,  2.,  0.],\n",
       "       [ 3., nan,  3.]], dtype=float32)>"
      ]
     },
     "execution_count": 75,
     "metadata": {},
     "output_type": "execute_result"
    }
   ],
   "source": [
    "#找到张量中小于0的元素，将其转化成nan得到新的张量\n",
    "\n",
    "a = tf.constant([[-1,-1,-1],[-2,2,0],[-3,-3,3]],dtype = tf.float32)\n",
    "\n",
    "\n",
    "c = tf.constant([[-1,1,-1],[2,2,0],[3,-3,3]],dtype = tf.float32)\n",
    "d = tf.where(c < 0, tf.fill(c.shape,np.nan),c)\n",
    "d"
   ]
  },
  {
   "cell_type": "code",
   "execution_count": 76,
   "id": "40f131de",
   "metadata": {},
   "outputs": [
    {
     "data": {
      "text/plain": [
       "<tf.Tensor: shape=(3, 2), dtype=int64, numpy=\n",
       "array([[0, 0],\n",
       "       [0, 2],\n",
       "       [2, 1]], dtype=int64)>"
      ]
     },
     "execution_count": 76,
     "metadata": {},
     "output_type": "execute_result"
    }
   ],
   "source": [
    "indices = tf.where(c<0)\n",
    "indices"
   ]
  },
  {
   "cell_type": "code",
   "execution_count": 77,
   "id": "6ffd324b",
   "metadata": {},
   "outputs": [
    {
     "data": {
      "text/plain": [
       "<tf.Tensor: shape=(3, 3), dtype=float32, numpy=\n",
       "array([[-1.,  0., -1.],\n",
       "       [ 0.,  0.,  0.],\n",
       "       [ 0., -3.,  0.]], dtype=float32)>"
      ]
     },
     "execution_count": 77,
     "metadata": {},
     "output_type": "execute_result"
    }
   ],
   "source": [
    "# scatter_nd(indices, updates, shape, name=None) 将新数据映射到default为0的矩阵上\n",
    "\n",
    "indices = tf.where(c<0)\n",
    "tf.scatter_nd(indices, tf.gather_nd(c,indices),c.shape)"
   ]
  },
  {
   "cell_type": "markdown",
   "id": "71b0f5e4",
   "metadata": {},
   "source": [
    "# 维度变化"
   ]
  },
  {
   "cell_type": "code",
   "execution_count": 84,
   "id": "8d50cb05",
   "metadata": {},
   "outputs": [],
   "source": [
    "#tf.reshape  \n",
    "#tf.squeeze 减少维度\n",
    "#tf.expand_dims  增加维度\n",
    "#tf.transpose   交换维度"
   ]
  },
  {
   "cell_type": "code",
   "execution_count": 100,
   "id": "80cb3013",
   "metadata": {},
   "outputs": [
    {
     "name": "stdout",
     "output_type": "stream",
     "text": [
      "TensorShape([1, 3, 3, 2])\n",
      "[[[[158 90]\n",
      "   [89 14]\n",
      "   [59 209]]\n",
      "\n",
      "  [[91 164]\n",
      "   [239 138]\n",
      "   [156 95]]\n",
      "\n",
      "  [[48 40]\n",
      "   [0 238]\n",
      "   [3 22]]]]\n"
     ]
    }
   ],
   "source": [
    "a = tf.random.uniform(shape = [1,3,3,2],minval = 0, maxval = 255, dtype = tf.int32)\n",
    "tf.print(a.shape)\n",
    "tf.print(a)"
   ]
  },
  {
   "cell_type": "code",
   "execution_count": 101,
   "id": "3181f77f",
   "metadata": {},
   "outputs": [
    {
     "name": "stdout",
     "output_type": "stream",
     "text": [
      "TensorShape([3, 6])\n",
      "[[158 90 89 14 59 209]\n",
      " [91 164 239 138 156 95]\n",
      " [48 40 0 238 3 22]]\n"
     ]
    }
   ],
   "source": [
    "b = tf.reshape(a,(3,6))\n",
    "tf.print(b.shape)\n",
    "tf.print(b)"
   ]
  },
  {
   "cell_type": "code",
   "execution_count": 99,
   "id": "97759d2a",
   "metadata": {},
   "outputs": [
    {
     "data": {
      "text/plain": [
       "array([[ 1.88159327,  0.67306102,  0.3840516 , -0.95047955,  0.21198794],\n",
       "       [ 0.84571777, -1.21950305, -0.011498  ,  0.02696512,  0.42271133]])"
      ]
     },
     "execution_count": 99,
     "metadata": {},
     "output_type": "execute_result"
    }
   ],
   "source": [
    "v = np.random.normal(0,1,10)\n",
    "np.reshape(v,(2,5))"
   ]
  },
  {
   "cell_type": "code",
   "execution_count": 102,
   "id": "1f2b9441",
   "metadata": {},
   "outputs": [
    {
     "name": "stdout",
     "output_type": "stream",
     "text": [
      "TensorShape([3, 3, 2])\n",
      "[[[158 90]\n",
      "  [89 14]\n",
      "  [59 209]]\n",
      "\n",
      " [[91 164]\n",
      "  [239 138]\n",
      "  [156 95]]\n",
      "\n",
      " [[48 40]\n",
      "  [0 238]\n",
      "  [3 22]]]\n"
     ]
    }
   ],
   "source": [
    "s = tf.squeeze(a)\n",
    "tf.print(s.shape)\n",
    "tf.print(s)"
   ]
  },
  {
   "cell_type": "code",
   "execution_count": 104,
   "id": "a0e11bcb",
   "metadata": {},
   "outputs": [
    {
     "data": {
      "text/plain": [
       "<tf.Tensor: shape=(1, 3, 3, 2), dtype=int32, numpy=\n",
       "array([[[[158,  90],\n",
       "         [ 89,  14],\n",
       "         [ 59, 209]],\n",
       "\n",
       "        [[ 91, 164],\n",
       "         [239, 138],\n",
       "         [156,  95]],\n",
       "\n",
       "        [[ 48,  40],\n",
       "         [  0, 238],\n",
       "         [  3,  22]]]])>"
      ]
     },
     "execution_count": 104,
     "metadata": {},
     "output_type": "execute_result"
    }
   ],
   "source": [
    "d = tf.expand_dims(s,axis = 0)\n",
    "d"
   ]
  },
  {
   "cell_type": "code",
   "execution_count": 109,
   "id": "d6c7e540",
   "metadata": {},
   "outputs": [
    {
     "name": "stdout",
     "output_type": "stream",
     "text": [
      "TensorShape([100, 600, 600, 4])\n",
      "TensorShape([4, 600, 600, 100])\n"
     ]
    }
   ],
   "source": [
    "a = tf.random.uniform(shape=[100,600,600,4],minval=0,maxval=255,dtype=tf.int32)\n",
    "tf.print(a.shape)\n",
    "\n",
    "s= tf.transpose(a ,perm=[3,1,2,0])\n",
    "tf.print(s.shape)\n",
    "\n"
   ]
  },
  {
   "cell_type": "markdown",
   "id": "2edf1798",
   "metadata": {},
   "source": [
    "# 合并分割"
   ]
  },
  {
   "cell_type": "code",
   "execution_count": 110,
   "id": "147505e0",
   "metadata": {},
   "outputs": [
    {
     "data": {
      "text/plain": [
       "<tf.Tensor: shape=(6, 2), dtype=float32, numpy=\n",
       "array([[ 1.,  2.],\n",
       "       [ 3.,  4.],\n",
       "       [ 5.,  6.],\n",
       "       [ 7.,  8.],\n",
       "       [ 9., 10.],\n",
       "       [11., 12.]], dtype=float32)>"
      ]
     },
     "execution_count": 110,
     "metadata": {},
     "output_type": "execute_result"
    }
   ],
   "source": [
    "a = tf.constant([[1.0,2.0],[3.0,4.0]])\n",
    "b = tf.constant([[5.0,6.0],[7.0,8.0]])\n",
    "c = tf.constant([[9.0,10.0],[11.0,12.0]])\n",
    "\n",
    "tf.concat([a,b,c],axis = 0)"
   ]
  },
  {
   "cell_type": "code",
   "execution_count": 111,
   "id": "a5b345cf",
   "metadata": {},
   "outputs": [
    {
     "data": {
      "text/plain": [
       "<tf.Tensor: shape=(2, 6), dtype=float32, numpy=\n",
       "array([[ 1.,  2.,  5.,  6.,  9., 10.],\n",
       "       [ 3.,  4.,  7.,  8., 11., 12.]], dtype=float32)>"
      ]
     },
     "execution_count": 111,
     "metadata": {},
     "output_type": "execute_result"
    }
   ],
   "source": [
    "tf.concat([a,b,c], axis = 1)"
   ]
  },
  {
   "cell_type": "code",
   "execution_count": 112,
   "id": "d1b5fb2b",
   "metadata": {},
   "outputs": [
    {
     "data": {
      "text/plain": [
       "<tf.Tensor: shape=(3, 2, 2), dtype=float32, numpy=\n",
       "array([[[ 1.,  2.],\n",
       "        [ 3.,  4.]],\n",
       "\n",
       "       [[ 5.,  6.],\n",
       "        [ 7.,  8.]],\n",
       "\n",
       "       [[ 9., 10.],\n",
       "        [11., 12.]]], dtype=float32)>"
      ]
     },
     "execution_count": 112,
     "metadata": {},
     "output_type": "execute_result"
    }
   ],
   "source": [
    "tf.stack([a,b,c])\n"
   ]
  },
  {
   "cell_type": "code",
   "execution_count": 113,
   "id": "d9f13721",
   "metadata": {},
   "outputs": [
    {
     "data": {
      "text/plain": [
       "<tf.Tensor: shape=(2, 3, 2), dtype=float32, numpy=\n",
       "array([[[ 1.,  2.],\n",
       "        [ 5.,  6.],\n",
       "        [ 9., 10.]],\n",
       "\n",
       "       [[ 3.,  4.],\n",
       "        [ 7.,  8.],\n",
       "        [11., 12.]]], dtype=float32)>"
      ]
     },
     "execution_count": 113,
     "metadata": {},
     "output_type": "execute_result"
    }
   ],
   "source": [
    "tf.stack([a,b,c],axis=1)\n"
   ]
  },
  {
   "cell_type": "code",
   "execution_count": 115,
   "id": "b3889e59",
   "metadata": {},
   "outputs": [
    {
     "data": {
      "text/plain": [
       "[<tf.Tensor: shape=(2, 2), dtype=float32, numpy=\n",
       " array([[1., 2.],\n",
       "        [3., 4.]], dtype=float32)>,\n",
       " <tf.Tensor: shape=(2, 2), dtype=float32, numpy=\n",
       " array([[5., 6.],\n",
       "        [7., 8.]], dtype=float32)>,\n",
       " <tf.Tensor: shape=(2, 2), dtype=float32, numpy=\n",
       " array([[ 9., 10.],\n",
       "        [11., 12.]], dtype=float32)>]"
      ]
     },
     "execution_count": 115,
     "metadata": {},
     "output_type": "execute_result"
    }
   ],
   "source": [
    "a = tf.constant([[1.0,2.0],[3.0,4.0]])\n",
    "b = tf.constant([[5.0,6.0],[7.0,8.0]])\n",
    "c = tf.constant([[9.0,10.0],[11.0,12.0]])\n",
    "\n",
    "d = tf.concat([a,b,c],axis = 0)\n",
    "\n",
    "tf.split(d,3,axis = 0)"
   ]
  },
  {
   "cell_type": "code",
   "execution_count": 116,
   "id": "f04b989b",
   "metadata": {},
   "outputs": [
    {
     "data": {
      "text/plain": [
       "[<tf.Tensor: shape=(2, 2), dtype=float32, numpy=\n",
       " array([[1., 2.],\n",
       "        [3., 4.]], dtype=float32)>,\n",
       " <tf.Tensor: shape=(2, 2), dtype=float32, numpy=\n",
       " array([[5., 6.],\n",
       "        [7., 8.]], dtype=float32)>,\n",
       " <tf.Tensor: shape=(2, 2), dtype=float32, numpy=\n",
       " array([[ 9., 10.],\n",
       "        [11., 12.]], dtype=float32)>]"
      ]
     },
     "execution_count": 116,
     "metadata": {},
     "output_type": "execute_result"
    }
   ],
   "source": [
    "tf.split(d,[2,2,2],axis = 0) #指定每份的记录数量\n"
   ]
  },
  {
   "cell_type": "code",
   "execution_count": null,
   "id": "1acc3fd9",
   "metadata": {},
   "outputs": [],
   "source": []
  }
 ],
 "metadata": {
  "kernelspec": {
   "display_name": "Python 3",
   "language": "python",
   "name": "python3"
  },
  "language_info": {
   "codemirror_mode": {
    "name": "ipython",
    "version": 3
   },
   "file_extension": ".py",
   "mimetype": "text/x-python",
   "name": "python",
   "nbconvert_exporter": "python",
   "pygments_lexer": "ipython3",
   "version": "3.8.8"
  }
 },
 "nbformat": 4,
 "nbformat_minor": 5
}
